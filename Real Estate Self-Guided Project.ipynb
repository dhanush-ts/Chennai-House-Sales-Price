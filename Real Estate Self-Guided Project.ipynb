{
 "cells": [
  {
   "cell_type": "markdown",
   "id": "19fd0eb8",
   "metadata": {},
   "source": [
    "# Chennai House Price Prediction using ML & Python Pandas."
   ]
  },
  {
   "cell_type": "markdown",
   "id": "411820ec",
   "metadata": {},
   "source": [
    "### Importing Required Modules"
   ]
  },
  {
   "cell_type": "code",
   "execution_count": 1,
   "id": "64f1fa31",
   "metadata": {},
   "outputs": [],
   "source": [
    "import pandas as pd\n",
    "import numpy as np\n",
    "from sklearn.linear_model import Lasso\n",
    "from sklearn.model_selection import GridSearchCV\n",
    "from sklearn.ensemble import RandomForestRegressor\n",
    "from xgboost import XGBRegressor\n",
    "import warnings \n",
    "warnings.filterwarnings(\"ignore\")"
   ]
  },
  {
   "cell_type": "markdown",
   "id": "ce30c8b2",
   "metadata": {},
   "source": [
    "### Data Wrangling."
   ]
  },
  {
   "cell_type": "code",
   "execution_count": 2,
   "id": "0b881802",
   "metadata": {},
   "outputs": [],
   "source": [
    "df=pd.read_csv(r\"C:\\Users\\ssrin\\Downloads\\Chennai houseing sale.csv\")\n",
    "df.N_BEDROOM.fillna(int(df.N_BEDROOM.mean()),inplace=True)\n",
    "df.N_BATHROOM.fillna(int(df.N_BATHROOM.mean()),inplace=True)"
   ]
  },
  {
   "cell_type": "code",
   "execution_count": 3,
   "id": "c0073d6c",
   "metadata": {
    "collapsed": true
   },
   "outputs": [
    {
     "data": {
      "text/plain": [
       "PRT_ID           0\n",
       "AREA             0\n",
       "Per_SQFT         0\n",
       "Year             0\n",
       "DIST_MAINROAD    0\n",
       "N_BEDROOM        0\n",
       "N_BATHROOM       0\n",
       "N_ROOM           0\n",
       "SALE_COND        0\n",
       "PARK_FACILITY    0\n",
       "year_BUILD       0\n",
       "BUILD_TYPE       0\n",
       "REG_FEE          0\n",
       "COMMISION        0\n",
       "SALES_PRICE      0\n",
       "dtype: int64"
      ]
     },
     "execution_count": 3,
     "metadata": {},
     "output_type": "execute_result"
    }
   ],
   "source": [
    "df.isna().sum()"
   ]
  },
  {
   "cell_type": "code",
   "execution_count": 4,
   "id": "b1f48e3d",
   "metadata": {},
   "outputs": [
    {
     "data": {
      "text/plain": [
       "7109"
      ]
     },
     "execution_count": 4,
     "metadata": {},
     "output_type": "execute_result"
    }
   ],
   "source": [
    "len(df)"
   ]
  },
  {
   "cell_type": "code",
   "execution_count": 5,
   "id": "0e0f33eb",
   "metadata": {},
   "outputs": [],
   "source": [
    "df.dropna(inplace=True)"
   ]
  },
  {
   "cell_type": "code",
   "execution_count": 6,
   "id": "891fe900",
   "metadata": {},
   "outputs": [
    {
     "data": {
      "text/plain": [
       "PRT_ID           0\n",
       "AREA             0\n",
       "Per_SQFT         0\n",
       "Year             0\n",
       "DIST_MAINROAD    0\n",
       "N_BEDROOM        0\n",
       "N_BATHROOM       0\n",
       "N_ROOM           0\n",
       "SALE_COND        0\n",
       "PARK_FACILITY    0\n",
       "year_BUILD       0\n",
       "BUILD_TYPE       0\n",
       "REG_FEE          0\n",
       "COMMISION        0\n",
       "SALES_PRICE      0\n",
       "dtype: int64"
      ]
     },
     "execution_count": 6,
     "metadata": {},
     "output_type": "execute_result"
    }
   ],
   "source": [
    "df.isna().sum()"
   ]
  },
  {
   "cell_type": "markdown",
   "id": "d4f7c481",
   "metadata": {},
   "source": [
    "### One Hot Encoding for Text Columns"
   ]
  },
  {
   "cell_type": "code",
   "execution_count": 7,
   "id": "658fd0ff",
   "metadata": {
    "collapsed": true
   },
   "outputs": [
    {
     "data": {
      "text/html": [
       "<div>\n",
       "<style scoped>\n",
       "    .dataframe tbody tr th:only-of-type {\n",
       "        vertical-align: middle;\n",
       "    }\n",
       "\n",
       "    .dataframe tbody tr th {\n",
       "        vertical-align: top;\n",
       "    }\n",
       "\n",
       "    .dataframe thead th {\n",
       "        text-align: right;\n",
       "    }\n",
       "</style>\n",
       "<table border=\"1\" class=\"dataframe\">\n",
       "  <thead>\n",
       "    <tr style=\"text-align: right;\">\n",
       "      <th></th>\n",
       "      <th>PRT_ID</th>\n",
       "      <th>AREA</th>\n",
       "      <th>Per_SQFT</th>\n",
       "      <th>Year</th>\n",
       "      <th>DIST_MAINROAD</th>\n",
       "      <th>N_BEDROOM</th>\n",
       "      <th>N_BATHROOM</th>\n",
       "      <th>N_ROOM</th>\n",
       "      <th>SALE_COND</th>\n",
       "      <th>PARK_FACILITY</th>\n",
       "      <th>year_BUILD</th>\n",
       "      <th>BUILD_TYPE</th>\n",
       "      <th>REG_FEE</th>\n",
       "      <th>COMMISION</th>\n",
       "      <th>SALES_PRICE</th>\n",
       "    </tr>\n",
       "  </thead>\n",
       "  <tbody>\n",
       "    <tr>\n",
       "      <th>0</th>\n",
       "      <td>P03210</td>\n",
       "      <td>Karapakkam</td>\n",
       "      <td>1004</td>\n",
       "      <td>2011</td>\n",
       "      <td>131</td>\n",
       "      <td>1.0</td>\n",
       "      <td>1.0</td>\n",
       "      <td>3</td>\n",
       "      <td>AbNormal</td>\n",
       "      <td>1</td>\n",
       "      <td>1967</td>\n",
       "      <td>Commercial</td>\n",
       "      <td>380000</td>\n",
       "      <td>144400</td>\n",
       "      <td>7600000</td>\n",
       "    </tr>\n",
       "    <tr>\n",
       "      <th>1</th>\n",
       "      <td>P09411</td>\n",
       "      <td>Anna Nagar</td>\n",
       "      <td>1986</td>\n",
       "      <td>2006</td>\n",
       "      <td>26</td>\n",
       "      <td>2.0</td>\n",
       "      <td>1.0</td>\n",
       "      <td>5</td>\n",
       "      <td>AbNormal</td>\n",
       "      <td>0</td>\n",
       "      <td>1995</td>\n",
       "      <td>Commercial</td>\n",
       "      <td>760122</td>\n",
       "      <td>304049</td>\n",
       "      <td>21717770</td>\n",
       "    </tr>\n",
       "    <tr>\n",
       "      <th>2</th>\n",
       "      <td>P01812</td>\n",
       "      <td>Adyar</td>\n",
       "      <td>909</td>\n",
       "      <td>2012</td>\n",
       "      <td>70</td>\n",
       "      <td>1.0</td>\n",
       "      <td>1.0</td>\n",
       "      <td>3</td>\n",
       "      <td>AbNormal</td>\n",
       "      <td>1</td>\n",
       "      <td>1992</td>\n",
       "      <td>Commercial</td>\n",
       "      <td>421094</td>\n",
       "      <td>92114</td>\n",
       "      <td>13159200</td>\n",
       "    </tr>\n",
       "    <tr>\n",
       "      <th>3</th>\n",
       "      <td>P05346</td>\n",
       "      <td>Velachery</td>\n",
       "      <td>1855</td>\n",
       "      <td>2010</td>\n",
       "      <td>14</td>\n",
       "      <td>3.0</td>\n",
       "      <td>2.0</td>\n",
       "      <td>5</td>\n",
       "      <td>Family</td>\n",
       "      <td>0</td>\n",
       "      <td>1988</td>\n",
       "      <td>Other</td>\n",
       "      <td>356321</td>\n",
       "      <td>77042</td>\n",
       "      <td>9630290</td>\n",
       "    </tr>\n",
       "    <tr>\n",
       "      <th>4</th>\n",
       "      <td>P06210</td>\n",
       "      <td>Karapakkam</td>\n",
       "      <td>1226</td>\n",
       "      <td>2009</td>\n",
       "      <td>84</td>\n",
       "      <td>1.0</td>\n",
       "      <td>1.0</td>\n",
       "      <td>3</td>\n",
       "      <td>AbNormal</td>\n",
       "      <td>1</td>\n",
       "      <td>1979</td>\n",
       "      <td>Other</td>\n",
       "      <td>237000</td>\n",
       "      <td>74063</td>\n",
       "      <td>7406250</td>\n",
       "    </tr>\n",
       "  </tbody>\n",
       "</table>\n",
       "</div>"
      ],
      "text/plain": [
       "   PRT_ID        AREA  Per_SQFT  Year  DIST_MAINROAD  N_BEDROOM  N_BATHROOM   \n",
       "0  P03210  Karapakkam      1004  2011            131        1.0         1.0  \\\n",
       "1  P09411  Anna Nagar      1986  2006             26        2.0         1.0   \n",
       "2  P01812       Adyar       909  2012             70        1.0         1.0   \n",
       "3  P05346   Velachery      1855  2010             14        3.0         2.0   \n",
       "4  P06210  Karapakkam      1226  2009             84        1.0         1.0   \n",
       "\n",
       "   N_ROOM SALE_COND  PARK_FACILITY  year_BUILD  BUILD_TYPE  REG_FEE   \n",
       "0       3  AbNormal              1        1967  Commercial   380000  \\\n",
       "1       5  AbNormal              0        1995  Commercial   760122   \n",
       "2       3  AbNormal              1        1992  Commercial   421094   \n",
       "3       5    Family              0        1988       Other   356321   \n",
       "4       3  AbNormal              1        1979       Other   237000   \n",
       "\n",
       "   COMMISION  SALES_PRICE  \n",
       "0     144400      7600000  \n",
       "1     304049     21717770  \n",
       "2      92114     13159200  \n",
       "3      77042      9630290  \n",
       "4      74063      7406250  "
      ]
     },
     "execution_count": 7,
     "metadata": {},
     "output_type": "execute_result"
    }
   ],
   "source": [
    "df.PARK_FACILITY=df.PARK_FACILITY.map({\"Yes\":1,\"No\":0})\n",
    "df.head()"
   ]
  },
  {
   "cell_type": "code",
   "execution_count": 8,
   "id": "b06d2048",
   "metadata": {},
   "outputs": [],
   "source": [
    "df=df.copy()\n",
    "df.N_BEDROOM=df.N_BEDROOM.astype(\"int8\")\n",
    "df.N_BATHROOM=df.N_BATHROOM.astype(\"int8\")\n",
    "df.Year=df.Year.astype(\"int\")\n",
    "df.year_BUILD=df.year_BUILD.astype(\"int\")\n",
    "df.Per_SQFT=df.Per_SQFT.astype(\"int\")"
   ]
  },
  {
   "cell_type": "code",
   "execution_count": 9,
   "id": "39a1453b",
   "metadata": {
    "collapsed": true
   },
   "outputs": [
    {
     "data": {
      "text/html": [
       "<div>\n",
       "<style scoped>\n",
       "    .dataframe tbody tr th:only-of-type {\n",
       "        vertical-align: middle;\n",
       "    }\n",
       "\n",
       "    .dataframe tbody tr th {\n",
       "        vertical-align: top;\n",
       "    }\n",
       "\n",
       "    .dataframe thead th {\n",
       "        text-align: right;\n",
       "    }\n",
       "</style>\n",
       "<table border=\"1\" class=\"dataframe\">\n",
       "  <thead>\n",
       "    <tr style=\"text-align: right;\">\n",
       "      <th></th>\n",
       "      <th>AREA</th>\n",
       "      <th>Per_SQFT</th>\n",
       "      <th>Year</th>\n",
       "      <th>DIST_MAINROAD</th>\n",
       "      <th>N_BEDROOM</th>\n",
       "      <th>N_BATHROOM</th>\n",
       "      <th>N_ROOM</th>\n",
       "      <th>SALE_COND</th>\n",
       "      <th>PARK_FACILITY</th>\n",
       "      <th>year_BUILD</th>\n",
       "      <th>BUILD_TYPE</th>\n",
       "      <th>REG_FEE</th>\n",
       "      <th>COMMISION</th>\n",
       "      <th>SALES_PRICE</th>\n",
       "    </tr>\n",
       "  </thead>\n",
       "  <tbody>\n",
       "    <tr>\n",
       "      <th>0</th>\n",
       "      <td>Karapakkam</td>\n",
       "      <td>1004</td>\n",
       "      <td>2011</td>\n",
       "      <td>131</td>\n",
       "      <td>1</td>\n",
       "      <td>1</td>\n",
       "      <td>3</td>\n",
       "      <td>AbNormal</td>\n",
       "      <td>1</td>\n",
       "      <td>1967</td>\n",
       "      <td>Commercial</td>\n",
       "      <td>380000</td>\n",
       "      <td>144400</td>\n",
       "      <td>7600000</td>\n",
       "    </tr>\n",
       "    <tr>\n",
       "      <th>1</th>\n",
       "      <td>Anna Nagar</td>\n",
       "      <td>1986</td>\n",
       "      <td>2006</td>\n",
       "      <td>26</td>\n",
       "      <td>2</td>\n",
       "      <td>1</td>\n",
       "      <td>5</td>\n",
       "      <td>AbNormal</td>\n",
       "      <td>0</td>\n",
       "      <td>1995</td>\n",
       "      <td>Commercial</td>\n",
       "      <td>760122</td>\n",
       "      <td>304049</td>\n",
       "      <td>21717770</td>\n",
       "    </tr>\n",
       "    <tr>\n",
       "      <th>2</th>\n",
       "      <td>Adyar</td>\n",
       "      <td>909</td>\n",
       "      <td>2012</td>\n",
       "      <td>70</td>\n",
       "      <td>1</td>\n",
       "      <td>1</td>\n",
       "      <td>3</td>\n",
       "      <td>AbNormal</td>\n",
       "      <td>1</td>\n",
       "      <td>1992</td>\n",
       "      <td>Commercial</td>\n",
       "      <td>421094</td>\n",
       "      <td>92114</td>\n",
       "      <td>13159200</td>\n",
       "    </tr>\n",
       "    <tr>\n",
       "      <th>3</th>\n",
       "      <td>Velachery</td>\n",
       "      <td>1855</td>\n",
       "      <td>2010</td>\n",
       "      <td>14</td>\n",
       "      <td>3</td>\n",
       "      <td>2</td>\n",
       "      <td>5</td>\n",
       "      <td>Family</td>\n",
       "      <td>0</td>\n",
       "      <td>1988</td>\n",
       "      <td>Other</td>\n",
       "      <td>356321</td>\n",
       "      <td>77042</td>\n",
       "      <td>9630290</td>\n",
       "    </tr>\n",
       "    <tr>\n",
       "      <th>4</th>\n",
       "      <td>Karapakkam</td>\n",
       "      <td>1226</td>\n",
       "      <td>2009</td>\n",
       "      <td>84</td>\n",
       "      <td>1</td>\n",
       "      <td>1</td>\n",
       "      <td>3</td>\n",
       "      <td>AbNormal</td>\n",
       "      <td>1</td>\n",
       "      <td>1979</td>\n",
       "      <td>Other</td>\n",
       "      <td>237000</td>\n",
       "      <td>74063</td>\n",
       "      <td>7406250</td>\n",
       "    </tr>\n",
       "  </tbody>\n",
       "</table>\n",
       "</div>"
      ],
      "text/plain": [
       "         AREA  Per_SQFT  Year  DIST_MAINROAD  N_BEDROOM  N_BATHROOM  N_ROOM   \n",
       "0  Karapakkam      1004  2011            131          1           1       3  \\\n",
       "1  Anna Nagar      1986  2006             26          2           1       5   \n",
       "2       Adyar       909  2012             70          1           1       3   \n",
       "3   Velachery      1855  2010             14          3           2       5   \n",
       "4  Karapakkam      1226  2009             84          1           1       3   \n",
       "\n",
       "  SALE_COND  PARK_FACILITY  year_BUILD  BUILD_TYPE  REG_FEE  COMMISION   \n",
       "0  AbNormal              1        1967  Commercial   380000     144400  \\\n",
       "1  AbNormal              0        1995  Commercial   760122     304049   \n",
       "2  AbNormal              1        1992  Commercial   421094      92114   \n",
       "3    Family              0        1988       Other   356321      77042   \n",
       "4  AbNormal              1        1979       Other   237000      74063   \n",
       "\n",
       "   SALES_PRICE  \n",
       "0      7600000  \n",
       "1     21717770  \n",
       "2     13159200  \n",
       "3      9630290  \n",
       "4      7406250  "
      ]
     },
     "execution_count": 9,
     "metadata": {},
     "output_type": "execute_result"
    }
   ],
   "source": [
    "df1=df.iloc[:,1:]\n",
    "df1.head()"
   ]
  },
  {
   "cell_type": "code",
   "execution_count": 10,
   "id": "28863677",
   "metadata": {},
   "outputs": [
    {
     "data": {
      "text/plain": [
       "AREA             0\n",
       "Per_SQFT         0\n",
       "Year             0\n",
       "DIST_MAINROAD    0\n",
       "N_BEDROOM        0\n",
       "N_BATHROOM       0\n",
       "N_ROOM           0\n",
       "SALE_COND        0\n",
       "PARK_FACILITY    0\n",
       "year_BUILD       0\n",
       "BUILD_TYPE       0\n",
       "REG_FEE          0\n",
       "COMMISION        0\n",
       "SALES_PRICE      0\n",
       "dtype: int64"
      ]
     },
     "execution_count": 10,
     "metadata": {},
     "output_type": "execute_result"
    }
   ],
   "source": [
    "df1.BUILD_TYPE=df1.BUILD_TYPE.map({\"Commercial\":0,\"House\":1,\"Other\":2})\n",
    "df1.isna().sum()"
   ]
  },
  {
   "cell_type": "code",
   "execution_count": 11,
   "id": "fdf6767c",
   "metadata": {},
   "outputs": [
    {
     "data": {
      "text/html": [
       "<div>\n",
       "<style scoped>\n",
       "    .dataframe tbody tr th:only-of-type {\n",
       "        vertical-align: middle;\n",
       "    }\n",
       "\n",
       "    .dataframe tbody tr th {\n",
       "        vertical-align: top;\n",
       "    }\n",
       "\n",
       "    .dataframe thead th {\n",
       "        text-align: right;\n",
       "    }\n",
       "</style>\n",
       "<table border=\"1\" class=\"dataframe\">\n",
       "  <thead>\n",
       "    <tr style=\"text-align: right;\">\n",
       "      <th></th>\n",
       "      <th>AREA</th>\n",
       "      <th>Per_SQFT</th>\n",
       "      <th>Year</th>\n",
       "      <th>DIST_MAINROAD</th>\n",
       "      <th>N_BEDROOM</th>\n",
       "      <th>N_BATHROOM</th>\n",
       "      <th>N_ROOM</th>\n",
       "      <th>SALE_COND</th>\n",
       "      <th>PARK_FACILITY</th>\n",
       "      <th>year_BUILD</th>\n",
       "      <th>...</th>\n",
       "      <th>Anna Nagar</th>\n",
       "      <th>Chrompet</th>\n",
       "      <th>KK Nagar</th>\n",
       "      <th>Karapakkam</th>\n",
       "      <th>T Nagar</th>\n",
       "      <th>Velachery</th>\n",
       "      <th>AdjLand</th>\n",
       "      <th>Family</th>\n",
       "      <th>Normal Sale</th>\n",
       "      <th>Partial</th>\n",
       "    </tr>\n",
       "  </thead>\n",
       "  <tbody>\n",
       "    <tr>\n",
       "      <th>0</th>\n",
       "      <td>Karapakkam</td>\n",
       "      <td>1004</td>\n",
       "      <td>2011</td>\n",
       "      <td>131</td>\n",
       "      <td>1</td>\n",
       "      <td>1</td>\n",
       "      <td>3</td>\n",
       "      <td>AbNormal</td>\n",
       "      <td>1</td>\n",
       "      <td>1967</td>\n",
       "      <td>...</td>\n",
       "      <td>False</td>\n",
       "      <td>False</td>\n",
       "      <td>False</td>\n",
       "      <td>True</td>\n",
       "      <td>False</td>\n",
       "      <td>False</td>\n",
       "      <td>False</td>\n",
       "      <td>False</td>\n",
       "      <td>False</td>\n",
       "      <td>False</td>\n",
       "    </tr>\n",
       "    <tr>\n",
       "      <th>1</th>\n",
       "      <td>Anna Nagar</td>\n",
       "      <td>1986</td>\n",
       "      <td>2006</td>\n",
       "      <td>26</td>\n",
       "      <td>2</td>\n",
       "      <td>1</td>\n",
       "      <td>5</td>\n",
       "      <td>AbNormal</td>\n",
       "      <td>0</td>\n",
       "      <td>1995</td>\n",
       "      <td>...</td>\n",
       "      <td>True</td>\n",
       "      <td>False</td>\n",
       "      <td>False</td>\n",
       "      <td>False</td>\n",
       "      <td>False</td>\n",
       "      <td>False</td>\n",
       "      <td>False</td>\n",
       "      <td>False</td>\n",
       "      <td>False</td>\n",
       "      <td>False</td>\n",
       "    </tr>\n",
       "    <tr>\n",
       "      <th>2</th>\n",
       "      <td>Adyar</td>\n",
       "      <td>909</td>\n",
       "      <td>2012</td>\n",
       "      <td>70</td>\n",
       "      <td>1</td>\n",
       "      <td>1</td>\n",
       "      <td>3</td>\n",
       "      <td>AbNormal</td>\n",
       "      <td>1</td>\n",
       "      <td>1992</td>\n",
       "      <td>...</td>\n",
       "      <td>False</td>\n",
       "      <td>False</td>\n",
       "      <td>False</td>\n",
       "      <td>False</td>\n",
       "      <td>False</td>\n",
       "      <td>False</td>\n",
       "      <td>False</td>\n",
       "      <td>False</td>\n",
       "      <td>False</td>\n",
       "      <td>False</td>\n",
       "    </tr>\n",
       "  </tbody>\n",
       "</table>\n",
       "<p>3 rows × 24 columns</p>\n",
       "</div>"
      ],
      "text/plain": [
       "         AREA  Per_SQFT  Year  DIST_MAINROAD  N_BEDROOM  N_BATHROOM  N_ROOM   \n",
       "0  Karapakkam      1004  2011            131          1           1       3  \\\n",
       "1  Anna Nagar      1986  2006             26          2           1       5   \n",
       "2       Adyar       909  2012             70          1           1       3   \n",
       "\n",
       "  SALE_COND  PARK_FACILITY  year_BUILD  ...  Anna Nagar  Chrompet  KK Nagar   \n",
       "0  AbNormal              1        1967  ...       False     False     False  \\\n",
       "1  AbNormal              0        1995  ...        True     False     False   \n",
       "2  AbNormal              1        1992  ...       False     False     False   \n",
       "\n",
       "   Karapakkam  T Nagar  Velachery  AdjLand  Family  Normal Sale  Partial  \n",
       "0        True    False      False    False   False        False    False  \n",
       "1       False    False      False    False   False        False    False  \n",
       "2       False    False      False    False   False        False    False  \n",
       "\n",
       "[3 rows x 24 columns]"
      ]
     },
     "execution_count": 11,
     "metadata": {},
     "output_type": "execute_result"
    }
   ],
   "source": [
    "dum1=pd.get_dummies(df1.AREA,drop_first=True)\n",
    "dum2=pd.get_dummies(df1.SALE_COND,drop_first=True)\n",
    "df2=pd.concat([df1,dum1,dum2],axis=1)\n",
    "df2.head(3)"
   ]
  },
  {
   "cell_type": "code",
   "execution_count": 12,
   "id": "52846d62",
   "metadata": {},
   "outputs": [
    {
     "data": {
      "text/html": [
       "<div>\n",
       "<style scoped>\n",
       "    .dataframe tbody tr th:only-of-type {\n",
       "        vertical-align: middle;\n",
       "    }\n",
       "\n",
       "    .dataframe tbody tr th {\n",
       "        vertical-align: top;\n",
       "    }\n",
       "\n",
       "    .dataframe thead th {\n",
       "        text-align: right;\n",
       "    }\n",
       "</style>\n",
       "<table border=\"1\" class=\"dataframe\">\n",
       "  <thead>\n",
       "    <tr style=\"text-align: right;\">\n",
       "      <th></th>\n",
       "      <th>Per_SQFT</th>\n",
       "      <th>Year</th>\n",
       "      <th>N_BEDROOM</th>\n",
       "      <th>N_BATHROOM</th>\n",
       "      <th>N_ROOM</th>\n",
       "      <th>PARK_FACILITY</th>\n",
       "      <th>year_BUILD</th>\n",
       "      <th>BUILD_TYPE</th>\n",
       "      <th>REG_FEE</th>\n",
       "      <th>COMMISION</th>\n",
       "      <th>...</th>\n",
       "      <th>Anna Nagar</th>\n",
       "      <th>Chrompet</th>\n",
       "      <th>KK Nagar</th>\n",
       "      <th>Karapakkam</th>\n",
       "      <th>T Nagar</th>\n",
       "      <th>Velachery</th>\n",
       "      <th>AdjLand</th>\n",
       "      <th>Family</th>\n",
       "      <th>Normal Sale</th>\n",
       "      <th>Partial</th>\n",
       "    </tr>\n",
       "  </thead>\n",
       "  <tbody>\n",
       "    <tr>\n",
       "      <th>0</th>\n",
       "      <td>1004</td>\n",
       "      <td>2011</td>\n",
       "      <td>1</td>\n",
       "      <td>1</td>\n",
       "      <td>3</td>\n",
       "      <td>1</td>\n",
       "      <td>1967</td>\n",
       "      <td>0</td>\n",
       "      <td>380000</td>\n",
       "      <td>144400</td>\n",
       "      <td>...</td>\n",
       "      <td>False</td>\n",
       "      <td>False</td>\n",
       "      <td>False</td>\n",
       "      <td>True</td>\n",
       "      <td>False</td>\n",
       "      <td>False</td>\n",
       "      <td>False</td>\n",
       "      <td>False</td>\n",
       "      <td>False</td>\n",
       "      <td>False</td>\n",
       "    </tr>\n",
       "    <tr>\n",
       "      <th>1</th>\n",
       "      <td>1986</td>\n",
       "      <td>2006</td>\n",
       "      <td>2</td>\n",
       "      <td>1</td>\n",
       "      <td>5</td>\n",
       "      <td>0</td>\n",
       "      <td>1995</td>\n",
       "      <td>0</td>\n",
       "      <td>760122</td>\n",
       "      <td>304049</td>\n",
       "      <td>...</td>\n",
       "      <td>True</td>\n",
       "      <td>False</td>\n",
       "      <td>False</td>\n",
       "      <td>False</td>\n",
       "      <td>False</td>\n",
       "      <td>False</td>\n",
       "      <td>False</td>\n",
       "      <td>False</td>\n",
       "      <td>False</td>\n",
       "      <td>False</td>\n",
       "    </tr>\n",
       "    <tr>\n",
       "      <th>2</th>\n",
       "      <td>909</td>\n",
       "      <td>2012</td>\n",
       "      <td>1</td>\n",
       "      <td>1</td>\n",
       "      <td>3</td>\n",
       "      <td>1</td>\n",
       "      <td>1992</td>\n",
       "      <td>0</td>\n",
       "      <td>421094</td>\n",
       "      <td>92114</td>\n",
       "      <td>...</td>\n",
       "      <td>False</td>\n",
       "      <td>False</td>\n",
       "      <td>False</td>\n",
       "      <td>False</td>\n",
       "      <td>False</td>\n",
       "      <td>False</td>\n",
       "      <td>False</td>\n",
       "      <td>False</td>\n",
       "      <td>False</td>\n",
       "      <td>False</td>\n",
       "    </tr>\n",
       "    <tr>\n",
       "      <th>3</th>\n",
       "      <td>1855</td>\n",
       "      <td>2010</td>\n",
       "      <td>3</td>\n",
       "      <td>2</td>\n",
       "      <td>5</td>\n",
       "      <td>0</td>\n",
       "      <td>1988</td>\n",
       "      <td>2</td>\n",
       "      <td>356321</td>\n",
       "      <td>77042</td>\n",
       "      <td>...</td>\n",
       "      <td>False</td>\n",
       "      <td>False</td>\n",
       "      <td>False</td>\n",
       "      <td>False</td>\n",
       "      <td>False</td>\n",
       "      <td>True</td>\n",
       "      <td>False</td>\n",
       "      <td>True</td>\n",
       "      <td>False</td>\n",
       "      <td>False</td>\n",
       "    </tr>\n",
       "    <tr>\n",
       "      <th>4</th>\n",
       "      <td>1226</td>\n",
       "      <td>2009</td>\n",
       "      <td>1</td>\n",
       "      <td>1</td>\n",
       "      <td>3</td>\n",
       "      <td>1</td>\n",
       "      <td>1979</td>\n",
       "      <td>2</td>\n",
       "      <td>237000</td>\n",
       "      <td>74063</td>\n",
       "      <td>...</td>\n",
       "      <td>False</td>\n",
       "      <td>False</td>\n",
       "      <td>False</td>\n",
       "      <td>True</td>\n",
       "      <td>False</td>\n",
       "      <td>False</td>\n",
       "      <td>False</td>\n",
       "      <td>False</td>\n",
       "      <td>False</td>\n",
       "      <td>False</td>\n",
       "    </tr>\n",
       "  </tbody>\n",
       "</table>\n",
       "<p>5 rows × 21 columns</p>\n",
       "</div>"
      ],
      "text/plain": [
       "   Per_SQFT  Year  N_BEDROOM  N_BATHROOM  N_ROOM  PARK_FACILITY  year_BUILD   \n",
       "0      1004  2011          1           1       3              1        1967  \\\n",
       "1      1986  2006          2           1       5              0        1995   \n",
       "2       909  2012          1           1       3              1        1992   \n",
       "3      1855  2010          3           2       5              0        1988   \n",
       "4      1226  2009          1           1       3              1        1979   \n",
       "\n",
       "   BUILD_TYPE  REG_FEE  COMMISION  ...  Anna Nagar  Chrompet  KK Nagar   \n",
       "0           0   380000     144400  ...       False     False     False  \\\n",
       "1           0   760122     304049  ...        True     False     False   \n",
       "2           0   421094      92114  ...       False     False     False   \n",
       "3           2   356321      77042  ...       False     False     False   \n",
       "4           2   237000      74063  ...       False     False     False   \n",
       "\n",
       "   Karapakkam  T Nagar  Velachery  AdjLand  Family  Normal Sale  Partial  \n",
       "0        True    False      False    False   False        False    False  \n",
       "1       False    False      False    False   False        False    False  \n",
       "2       False    False      False    False   False        False    False  \n",
       "3       False    False       True    False    True        False    False  \n",
       "4        True    False      False    False   False        False    False  \n",
       "\n",
       "[5 rows x 21 columns]"
      ]
     },
     "execution_count": 12,
     "metadata": {},
     "output_type": "execute_result"
    }
   ],
   "source": [
    "model1=df2.drop([\"SALE_COND\",\"AREA\",\"DIST_MAINROAD\"],axis=1)\n",
    "model1.head()"
   ]
  },
  {
   "cell_type": "markdown",
   "id": "a3727621",
   "metadata": {},
   "source": [
    "### Accuracy Measuring"
   ]
  },
  {
   "cell_type": "code",
   "execution_count": 13,
   "id": "4f0ef055",
   "metadata": {},
   "outputs": [
    {
     "data": {
      "text/plain": [
       "0.9134439603774468"
      ]
     },
     "execution_count": 13,
     "metadata": {},
     "output_type": "execute_result"
    }
   ],
   "source": [
    "from sklearn.model_selection import train_test_split\n",
    "from sklearn.linear_model import LinearRegression\n",
    "m1=LinearRegression()\n",
    "x_tr,x_t,y_tr,y_t=train_test_split(model1.drop([\"SALES_PRICE\"],axis=1),model1.SALES_PRICE,train_size=0.8,random_state=50)\n",
    "m1.fit(x_tr,y_tr)\n",
    "m1.score(x_t,y_t)"
   ]
  },
  {
   "cell_type": "code",
   "execution_count": 14,
   "id": "4cfcf90d",
   "metadata": {},
   "outputs": [
    {
     "data": {
      "text/plain": [
       "array([0.9611757 , 0.96272373, 0.95953577, 0.95994482, 0.96891527])"
      ]
     },
     "execution_count": 14,
     "metadata": {},
     "output_type": "execute_result"
    }
   ],
   "source": [
    "from sklearn.model_selection import cross_val_score\n",
    "c=cross_val_score(XGBRegressor(),model1.drop([\"SALES_PRICE\"],axis=1),model1.SALES_PRICE,cv=5)\n",
    "c"
   ]
  },
  {
   "cell_type": "code",
   "execution_count": 15,
   "id": "bfd6cdf3",
   "metadata": {},
   "outputs": [
    {
     "data": {
      "text/plain": [
       "0.9638968689415204"
      ]
     },
     "execution_count": 15,
     "metadata": {},
     "output_type": "execute_result"
    }
   ],
   "source": [
    "from sklearn.tree import DecisionTreeRegressor\n",
    "from sklearn.model_selection import ShuffleSplit\n",
    "cv=ShuffleSplit(n_splits=5,train_size=0.8,random_state=10)\n",
    "m2=XGBRegressor()\n",
    "m2.fit(x_tr,y_tr)\n",
    "m2.score(x_t,y_t)"
   ]
  },
  {
   "cell_type": "code",
   "execution_count": 16,
   "id": "f7fc2f4c",
   "metadata": {},
   "outputs": [
    {
     "data": {
      "text/plain": [
       "0.9628335860037824"
      ]
     },
     "execution_count": 16,
     "metadata": {},
     "output_type": "execute_result"
    }
   ],
   "source": [
    "c1=cross_val_score(m2,model1.drop([\"SALES_PRICE\"],axis=1),model1.SALES_PRICE,cv=cv)\n",
    "c1.mean()"
   ]
  },
  {
   "cell_type": "markdown",
   "id": "00f51217",
   "metadata": {},
   "source": [
    "### Hyper Parameter Tuning."
   ]
  },
  {
   "cell_type": "code",
   "execution_count": 17,
   "id": "e73f56cd",
   "metadata": {},
   "outputs": [],
   "source": [
    "dict={\n",
    "    \"Lasso\":{\n",
    "        \"model\" :Lasso(),\n",
    "        \"params\":{\n",
    "            \"selection\":['cyclic', 'random'],\n",
    "            \"tol\":[0.0001,0.001,0.01,0.1],\n",
    "            \"alpha\":[0.25,0.5,0.75,1]}},\n",
    "    \"LinearRegression\":{\n",
    "        \"model\":LinearRegression(),\n",
    "        \"params\":{\n",
    "            \"fit_intercept\":[True,False]}}}"
   ]
  },
  {
   "cell_type": "code",
   "execution_count": 18,
   "id": "3d298c8b",
   "metadata": {},
   "outputs": [],
   "source": [
    "gs=GridSearchCV(DecisionTreeRegressor(),{\n",
    "            \"criterion\":[\"squared_error\", \"friedman_mse\", \"absolute_error\",\"poisson\"],\n",
    "            \"splitter\":[\"best\",\"random\"]},cv=cv)"
   ]
  },
  {
   "cell_type": "code",
   "execution_count": 50,
   "id": "567c3783",
   "metadata": {},
   "outputs": [
    {
     "data": {
      "text/plain": [
       "18"
      ]
     },
     "execution_count": 50,
     "metadata": {},
     "output_type": "execute_result"
    }
   ],
   "source": [
    "X=model1.drop([\"SALES_PRICE\",'COMMISION',\"REG_FEE\"],axis=1)\n",
    "len(X.columns)"
   ]
  },
  {
   "cell_type": "markdown",
   "id": "55bdd1ee",
   "metadata": {},
   "source": [
    "### Creating Functions for Predicting"
   ]
  },
  {
   "cell_type": "code",
   "execution_count": 55,
   "id": "91a54c8e",
   "metadata": {},
   "outputs": [],
   "source": [
    "def predict():\n",
    "    sq=int(input(\"How many Sqft?    :\"))\n",
    "    yr=int(input(\"Current Year\"))\n",
    "    bed=int(input(\"How many Bedrooms?    :\"))\n",
    "    bath=int(input(\"How many Bathrooms?   :\"))\n",
    "    room=int(input(\"How many Rooms?    :\"))\n",
    "    park=int(input(\"Park Facility ? (1/0)    :\"))\n",
    "    byr=int(input(\"Which Year it must be build ?    :\"))\n",
    "    bt=input(\"For what purpose looking for ? (Commercial,House,Other)    :\")\n",
    "    ar=input(\"In which place in chennai looking for ? (Anna Nagar,Chrompet,KK Nagar,Karapakkam,T Nagar,Velachery)      :\")\n",
    "    sc=input(\"What ids the Sale Condition you are looking for ? (AdjLand,Family,Normal Sale,Partial)       :\")\n",
    "    d={\"Commercial\":0,\"House\":1,\"Other\":2}\n",
    "    X=model1.drop([\"SALES_PRICE\",'COMMISION',\"REG_FEE\"],axis=1)\n",
    "    l1=list(X.columns)\n",
    "    x=list(np.zeros(len(l1),dtype=\"int\"))\n",
    "    if ar in l1:\n",
    "        area=l1.index(ar)\n",
    "        x[area]=1\n",
    "    if sc in l1:\n",
    "        sk=l1.index(sc)\n",
    "        x[sk]=1\n",
    "    x[0]=sq\n",
    "    x[1]=yr\n",
    "    x[2]=bed\n",
    "    x[3]=bath\n",
    "    x[4]=room\n",
    "    x[5]=park\n",
    "    x[6]=byr\n",
    "    x[7]=d[bt]\n",
    "    return x"
   ]
  },
  {
   "cell_type": "code",
   "execution_count": 67,
   "id": "fc5a6495",
   "metadata": {},
   "outputs": [
    {
     "data": {
      "text/plain": [
       "Index(['Per_SQFT', 'Year', 'N_BEDROOM', 'N_BATHROOM', 'N_ROOM',\n",
       "       'PARK_FACILITY', 'year_BUILD', 'BUILD_TYPE', 'Anna Nagar', 'Chrompet',\n",
       "       'KK Nagar', 'Karapakkam', 'T Nagar', 'Velachery', 'AdjLand', 'Family',\n",
       "       'Normal Sale', 'Partial'],\n",
       "      dtype='object')"
      ]
     },
     "execution_count": 67,
     "metadata": {},
     "output_type": "execute_result"
    }
   ],
   "source": [
    "X.columns"
   ]
  },
  {
   "cell_type": "code",
   "execution_count": 68,
   "id": "ce2a3035",
   "metadata": {},
   "outputs": [],
   "source": [
    "def sale_predicted_price(x):\n",
    "    X=model1.drop([\"SALES_PRICE\",'COMMISION',\"REG_FEE\"],axis=1)\n",
    "    y=model1.SALES_PRICE\n",
    "    mod=RandomForestRegressor()\n",
    "    mod.fit(X,y)\n",
    "    pred=mod.predict([x])[0]\n",
    "    return pred"
   ]
  },
  {
   "cell_type": "code",
   "execution_count": 75,
   "id": "911e453f",
   "metadata": {},
   "outputs": [],
   "source": [
    "def get_reg_fees(x):\n",
    "    model2=model1.drop([\"SALES_PRICE\",'COMMISION'],axis=1)\n",
    "    X=model2.drop([\"REG_FEE\"],axis=1)\n",
    "    y=model2.REG_FEE\n",
    "    mod=Lasso()\n",
    "    mod.fit(X,y)\n",
    "    q=mod.predict([x])[0]\n",
    "    return q"
   ]
  },
  {
   "cell_type": "code",
   "execution_count": 81,
   "id": "b4b322bb",
   "metadata": {},
   "outputs": [
    {
     "data": {
      "text/plain": [
       "0.8642171114909389"
      ]
     },
     "execution_count": 81,
     "metadata": {},
     "output_type": "execute_result"
    }
   ],
   "source": [
    "from sklearn.model_selection import KFold\n",
    "model2=df2.drop([\"SALE_COND\",\"AREA\",\"DIST_MAINROAD\"],axis=1)\n",
    "X=model2.drop(\"REG_FEE\",axis=1)\n",
    "y=model2.REG_FEE\n",
    "kf = KFold(n_splits=10,shuffle=True)\n",
    "X_train,X_test,y_train,y_test = train_test_split(X,y,random_state=0,test_size=0.2)\n",
    "X_train,X_valid,y_train,y_valid = train_test_split(X_train,y_train,random_state=0,test_size=0.2)\n",
    "lr = LinearRegression().fit(X_train,y_train)\n",
    "cs = cross_val_score(lr,X_train,y_train,cv=kf)\n",
    "cs.mean()"
   ]
  },
  {
   "cell_type": "code",
   "execution_count": 83,
   "id": "aa2776a3",
   "metadata": {
    "scrolled": true
   },
   "outputs": [
    {
     "name": "stdout",
     "output_type": "stream",
     "text": [
      "How many Sqft?    :2000\n",
      "Current Year2023\n",
      "How many Bedrooms?    :3\n",
      "How many Bathrooms?   :3\n",
      "How many Rooms?    :3\n",
      "Park Facility ? (1/0)    :1\n",
      "Which Year it must be build ?    :2023\n",
      "For what purpose looking for ? (Commercial,House,Other)    :House\n",
      "In which place in chennai looking for ? (Anna Nagar,Chrompet,KK Nagar,Karapakkam,T Nagar,Velachery)      :Karapakkam\n",
      "What ids the Sale Condition you are looking for ? (AdjLand,Family,Normal Sale,Partial)       :Family\n",
      "Estimated Sales Price---> 8053457.5\n",
      "Estimated Reg Fees---> 467993.77\n",
      "Estimated Overall Charges----> 8521451.271815538  + Commision\n"
     ]
    }
   ],
   "source": [
    "x=predict()\n",
    "pred=get_reg_fees(x)\n",
    "q=sale_predicted_price(x)\n",
    "print(\"Estimated Sales Price--->\",q)\n",
    "print(\"Estimated Reg Fees--->\",round(pred,2))\n",
    "print(\"Estimated Overall Charges---->\",q+pred,\" + Commision\")"
   ]
  },
  {
   "cell_type": "code",
   "execution_count": null,
   "id": "063a1b79",
   "metadata": {},
   "outputs": [],
   "source": []
  }
 ],
 "metadata": {
  "kernelspec": {
   "display_name": "Python 3 (ipykernel)",
   "language": "python",
   "name": "python3"
  },
  "language_info": {
   "codemirror_mode": {
    "name": "ipython",
    "version": 3
   },
   "file_extension": ".py",
   "mimetype": "text/x-python",
   "name": "python",
   "nbconvert_exporter": "python",
   "pygments_lexer": "ipython3",
   "version": "3.10.0"
  }
 },
 "nbformat": 4,
 "nbformat_minor": 5
}
